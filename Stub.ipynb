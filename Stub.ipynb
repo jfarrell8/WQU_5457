{
  "nbformat": 4,
  "nbformat_minor": 0,
  "metadata": {
    "colab": {
      "provenance": [],
      "authorship_tag": "ABX9TyMC4xtAal1w8aWerCpeAKxq",
      "include_colab_link": true
    },
    "kernelspec": {
      "name": "python3",
      "display_name": "Python 3"
    },
    "language_info": {
      "name": "python"
    }
  },
  "cells": [
    {
      "cell_type": "markdown",
      "metadata": {
        "id": "view-in-github",
        "colab_type": "text"
      },
      "source": [
        "<a href=\"https://colab.research.google.com/github/pcmendes1973/WQU-Capstone/blob/main/Stub.ipynb\" target=\"_parent\"><img src=\"https://colab.research.google.com/assets/colab-badge.svg\" alt=\"Open In Colab\"/></a>"
      ]
    },
    {
      "cell_type": "markdown",
      "source": [
        "# Model Stub\n",
        "\n",
        "This notebook downloads all data from the project repository and makes it available for model creation.\n",
        "\n"
      ],
      "metadata": {
        "id": "Hn1DIk56w9AI"
      }
    },
    {
      "cell_type": "markdown",
      "source": [
        "## Download Data from Repository"
      ],
      "metadata": {
        "id": "2Rz5PK-Rv4mm"
      }
    },
    {
      "cell_type": "code",
      "execution_count": 3,
      "metadata": {
        "id": "ipJr7bpIv3Zo"
      },
      "outputs": [],
      "source": [
        "import pandas as pd\n",
        "import urllib.request\n",
        "import pickle\n",
        "\n",
        "price_data = pd.read_csv(\n",
        "    \"https://raw.githubusercontent.com/jfarrell8/WQU_5457/master/price_data.csv\",\n",
        "    index_col='Date'\n",
        ")\n",
        "\n",
        "yield_curves = pd.read_csv(\n",
        "    \"https://raw.githubusercontent.com/jfarrell8/WQU_5457/master/yield_curves.csv\",\n",
        "    index_col='Date'\n",
        ")\n",
        "\n",
        "fundamentals = pickle.load(\n",
        "    urllib.request.urlopen(\"https://raw.githubusercontent.com/pcmendes1973/WQU-Capstone/master/fundamentals.pickle\")\n",
        " )"
      ]
    },
    {
      "cell_type": "markdown",
      "source": [
        "## Clean and Prepare Data"
      ],
      "metadata": {
        "id": "NQH1GPz2wye8"
      }
    },
    {
      "cell_type": "code",
      "source": [
        "# Perform operations such as removing outliers, normalization, etc."
      ],
      "metadata": {
        "id": "UfTbWxxQwzIO"
      },
      "execution_count": 5,
      "outputs": []
    },
    {
      "cell_type": "markdown",
      "source": [],
      "metadata": {
        "id": "7IC9CKQewycu"
      }
    }
  ]
}